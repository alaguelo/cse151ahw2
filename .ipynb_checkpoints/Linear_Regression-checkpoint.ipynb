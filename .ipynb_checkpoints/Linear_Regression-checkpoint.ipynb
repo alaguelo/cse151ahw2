{
 "cells": [
  {
   "cell_type": "markdown",
   "metadata": {},
   "source": [
    "# Introduction\n",
    "\n",
    "Linear regression generally have the form of $Y_{i} = \\theta_{0} + \\theta_{1} x_{1} + \\theta_{2} x_{2} + ...$ <br>\n",
    "There are several ways to find the coefficients of the regression: <br>\n",
    "1. Linear Algebra: $\\hat{\\theta} = (X^{T}X)^{-1}X^{T}Y$ (When X is invertible) <br>\n",
    "2. Gradient Descent: In this case, we need to write out the loss function and try to minimize the loss. <br>\n",
    "$\\hspace{30mm}$ $F(x)$ = Loss Function = MSE = $ \\frac{1}{n}\\sum^{n}_{i=1} (Y_{i} - \\hat{Y_{i}})^{2}$ <br>\n",
    "\n",
    "In this part of the assignment, we will be using the second way to implement this linear regression model. More details about the model's implementation can be found in corresponding lectures.\n",
    "\n",
    "### <font color='red'>ATTENTION: THERE ARE A TOTAL OF 4 QUESTIONS THAT NEED YOUR ANSWERS</font>"
   ]
  },
  {
   "cell_type": "markdown",
   "metadata": {},
   "source": [
    "## Import necessary packages\n",
    "\n",
    "You'll be implement your model in `LinearRegression.py` which should be put under the same directory as the location of `Linear_Regression.ipynb`. Since we have enabled `autoreload`, you only need to import these packages once. You don't need to restart the kernel of this notebook nor rerun the next cell even if you change your implementation for `LinearRegression.py` in the meantime.\n",
    "\n",
    "A suggestion for better productivity if you never used jupyter notebook + python script together: you can split your screen into left and right parts, and have your left part displaying this notebook and have your right part displaying your `LinearRegression.py`"
   ]
  },
  {
   "cell_type": "code",
   "execution_count": 2,
   "metadata": {},
   "outputs": [],
   "source": [
    "# Please do not change this code block\n",
    "%load_ext autoreload\n",
    "%autoreload 2\n",
    "\n",
    "# import numpy, pandas, pyplot for arrays, dataframes, and visualizations\n",
    "import numpy as np\n",
    "import pandas as pd\n",
    "import matplotlib.pyplot as plt\n",
    "\n",
    "# import sklearn model to validate our custom model\n",
    "from sklearn.preprocessing import MinMaxScaler\n",
    "from sklearn.linear_model import LinearRegression\n",
    "from sklearn.model_selection import train_test_split\n",
    "\n",
    "# Please make sure that your `LinearRegression.py` is under the same folder as this .ipynb notebook\n",
    "from LinearRegression import Linear_Regression"
   ]
  },
  {
   "cell_type": "markdown",
   "metadata": {},
   "source": [
    "# Experiment 1: Perfect Data\n",
    "\n",
    "In this part, we generate a dataset with a perfect linear relationship to test our model's performance. Here, we use the equation: $y = 5x + 10$ to generate our dataset."
   ]
  },
  {
   "cell_type": "code",
   "execution_count": 4,
   "metadata": {},
   "outputs": [
    {
     "data": {
      "text/plain": [
       "'x = [ 1  6 11 16 21], y = [ 15  40  65  90 115] for the first 5 values'"
      ]
     },
     "execution_count": 4,
     "metadata": {},
     "output_type": "execute_result"
    }
   ],
   "source": [
    "X = np.array([np.arange(1, 1000, 5)]).T\n",
    "y = np.array((5 * X)).flatten() +  10\n",
    "f'x = {X[:5].flatten()}, y = {y[:5]} for the first 5 values'"
   ]
  },
  {
   "cell_type": "markdown",
   "metadata": {},
   "source": [
    "First, let's try to fit our model without any normalization (note: the below cell block could take significant amount of time to complete)"
   ]
  },
  {
   "cell_type": "code",
   "execution_count": 6,
   "metadata": {},
   "outputs": [
    {
     "name": "stdout",
     "output_type": "stream",
     "text": [
      "Start Training\n",
      "-----------------------\n",
      "Iteration: 0\n",
      "Coef: [[ 0.71459464]\n",
      " [-0.14892133]]\n",
      "Loss: 539028110326713.56\n",
      "-----------------------\n",
      "Iteration: 1000000\n",
      "Coef: [[5.00989274]\n",
      " [3.42906874]]\n",
      "Loss: 2168.63398137866\n",
      "-----------------------\n",
      "Iteration: 2000000\n",
      "Coef: [[5.00640814]\n",
      " [5.74306652]]\n",
      "Loss: 910.1726446183612\n",
      "-----------------------\n",
      "Iteration: 3000000\n",
      "Coef: [[5.00415196]\n",
      " [7.2421737 ]]\n",
      "Loss: 382.0014026019088\n",
      "-----------------------\n",
      "Iteration: 4000000\n",
      "Coef: [[5.00269062]\n",
      " [8.21336004]]\n",
      "Loss: 160.32784721677416\n",
      "-----------------------\n",
      "Iteration: 5000000\n",
      "Coef: [[5.00174298]\n",
      " [8.84253716]]\n",
      "Loss: 67.28949672156675\n",
      "-----------------------\n",
      "Iteration: 6000000\n",
      "Coef: [[5.00112871]\n",
      " [9.25014512]]\n",
      "Loss: 28.241111268575896\n",
      "-----------------------\n",
      "Iteration: 7000000\n",
      "Coef: [[5.00073151]\n",
      " [9.51421158]]\n",
      "Loss: 11.852936675343337\n",
      "-----------------------\n",
      "Iteration: 8000000\n",
      "Coef: [[5.00047402]\n",
      " [9.68528512]]\n",
      "Loss: 4.97472120603366\n",
      "-----------------------\n",
      "Iteration: 9000000\n",
      "Coef: [[5.00030716]\n",
      " [9.79611404]]\n",
      "Loss: 2.0879086768015522\n",
      "-----------------------\n",
      "End Training\n",
      "\n",
      "Number of total iterations: 10000000 \n",
      "Best Loss: 0.8762757294426771\n",
      "CPU times: total: 3min 24s\n",
      "Wall time: 3min 32s\n"
     ]
    }
   ],
   "source": [
    "%%time\n",
    "reg = Linear_Regression(num_iter = 10000000)\n",
    "reg.fit(X,y)\n",
    "print(f'\\nNumber of total iterations: {len(reg.loss)} \\nBest Loss: {min(reg.loss)}')"
   ]
  },
  {
   "cell_type": "markdown",
   "metadata": {},
   "source": [
    "Then, let's try to fit our model with min-max normalization"
   ]
  },
  {
   "cell_type": "code",
   "execution_count": 8,
   "metadata": {},
   "outputs": [
    {
     "name": "stdout",
     "output_type": "stream",
     "text": [
      "Start Training\n",
      "-----------------------\n",
      "Iteration: 0\n",
      "Coef: [[2.68909541]\n",
      " [5.54903185]]\n",
      "Loss: 1661816229.405723\n",
      "-----------------------\n",
      "End Training (Early Stopped at iteration 1352)\n",
      "\n",
      "Number of total iterations: 1352 \n",
      "Best Loss: 1.187496933089432e-23\n",
      "CPU times: total: 15.6 ms\n",
      "Wall time: 29 ms\n"
     ]
    }
   ],
   "source": [
    "%%time\n",
    "reg_norm = Linear_Regression(num_iter = 10000000, normalize=True)\n",
    "reg_norm.fit(X,y)\n",
    "print(f'\\nNumber of total iterations: {len(reg_norm.loss)} \\nBest Loss: {min(reg_norm.loss)}')"
   ]
  },
  {
   "cell_type": "markdown",
   "metadata": {},
   "source": [
    "Now, let's compare the performance between these two models with/without normalization"
   ]
  },
  {
   "cell_type": "code",
   "execution_count": 10,
   "metadata": {},
   "outputs": [
    {
     "data": {
      "image/png": "[encoded data removed]",
      "text/plain": [
       "<Figure size 640x480 with 1 Axes>"
      ]
     },
     "metadata": {},
     "output_type": "display_data"
    }
   ],
   "source": [
    "plt.plot(np.log(reg.loss), label='Linear Regression w/o Normalization')\n",
    "plt.plot(np.log(reg_norm.loss), label='Linear Regression w/ Normalization')\n",
    "plt.xlabel(\"Number of Iterations\")\n",
    "plt.ylabel(\"Loss (Log Scaled)\")\n",
    "plt.legend()\n",
    "plt.show()"
   ]
  },
  {
   "cell_type": "markdown",
   "metadata": {},
   "source": [
    "<font color='red'>**Question 1: What conclusions can you draw from this experiment? Did normalization help? How and why?**\n",
    "</font>"
   ]
  },
  {
   "cell_type": "markdown",
   "metadata": {},
   "source": [
    " - **Answer:** From this experiment you can see that fitting the model takes a much longer time without normalization. Doing it that way, training needed to go through the whole amount of iterations given as the parameter, taking the max amount of possible time to find the best loss. On the other hand, fitting the model with normalization was very quick. It ended training early having found the best loss without needing to iterate the full amount of times. I think that normalization allowed fitting the model to be very quick since it scaled the features the same, making all the calculations in total become a lot smaller and thus faster."
   ]
  },
  {
   "cell_type": "markdown",
   "metadata": {},
   "source": [
    "# Experiment 2: Real-World Data\n",
    "\n",
    "After you complete the first experiment, let's see how our model performs against real-world data.\n",
    "\n",
    "The below dataset is taken from the [Boston Housing dataset](https://www.cs.toronto.edu/~delve/data/boston/bostonDetail.html), where there are 13 features and 1 target variable.\n",
    "\n",
    "0. CRIM - per capita crime rate by town\n",
    "1. ZN - proportion of residential land zoned for lots over 25,000 sq.ft.\n",
    "2. INDUS - proportion of non-retail business acres per town.\n",
    "3. CHAS - Charles River dummy variable (1 if tract bounds river; 0 otherwise)\n",
    "4. NOX - nitric oxides concentration (parts per 10 million)\n",
    "5. RM - average number of rooms per dwelling\n",
    "6. AGE - proportion of owner-occupied units built prior to 1940\n",
    "7. DIS - weighted distances to five Boston employment centres\n",
    "8. RAD - index of accessibility to radial highways\n",
    "9. TAX - full-value property-tax rate per \\$10,000\n",
    "10. PTRATIO - pupil-teacher ratio by town\n",
    "11. B - 1000(Bk - 0.63)^2 where Bk is the proportion of blacks by town\n",
    "12. LSTAT - \\% lower status of the population\n",
    "13. MEDV (**TARGET VARIABLE y**) - Median value of owner-occupied homes in $1000's"
   ]
  },
  {
   "cell_type": "code",
   "execution_count": 12,
   "metadata": {},
   "outputs": [
    {
     "name": "stderr",
     "output_type": "stream",
     "text": [
      "<>:2: SyntaxWarning: invalid escape sequence '\\s'\n",
      "<>:2: SyntaxWarning: invalid escape sequence '\\s'\n",
      "C:\\Users\\altai\\AppData\\Local\\Temp\\ipykernel_3736\\1103484946.py:2: SyntaxWarning: invalid escape sequence '\\s'\n",
      "  df = pd.read_csv(url, delimiter='\\s+', header=None)\n"
     ]
    },
    {
     "data": {
      "text/html": [
       "<div>\n",
       "<style scoped>\n",
       "    .dataframe tbody tr th:only-of-type {\n",
       "        vertical-align: middle;\n",
       "    }\n",
       "\n",
       "    .dataframe tbody tr th {\n",
       "        vertical-align: top;\n",
       "    }\n",
       "\n",
       "    .dataframe thead th {\n",
       "        text-align: right;\n",
       "    }\n",
       "</style>\n",
       "<table border=\"1\" class=\"dataframe\">\n",
       "  <thead>\n",
       "    <tr style=\"text-align: right;\">\n",
       "      <th></th>\n",
       "      <th>0</th>\n",
       "      <th>1</th>\n",
       "      <th>2</th>\n",
       "      <th>3</th>\n",
       "      <th>4</th>\n",
       "      <th>5</th>\n",
       "      <th>6</th>\n",
       "      <th>7</th>\n",
       "      <th>8</th>\n",
       "      <th>9</th>\n",
       "      <th>10</th>\n",
       "      <th>11</th>\n",
       "      <th>12</th>\n",
       "      <th>13</th>\n",
       "    </tr>\n",
       "  </thead>\n",
       "  <tbody>\n",
       "    <tr>\n",
       "      <th>0</th>\n",
       "      <td>0.00632</td>\n",
       "      <td>18.0</td>\n",
       "      <td>2.31</td>\n",
       "      <td>0</td>\n",
       "      <td>0.538</td>\n",
       "      <td>6.575</td>\n",
       "      <td>65.2</td>\n",
       "      <td>4.0900</td>\n",
       "      <td>1</td>\n",
       "      <td>296.0</td>\n",
       "      <td>15.3</td>\n",
       "      <td>396.90</td>\n",
       "      <td>4.98</td>\n",
       "      <td>24.0</td>\n",
       "    </tr>\n",
       "    <tr>\n",
       "      <th>1</th>\n",
       "      <td>0.02731</td>\n",
       "      <td>0.0</td>\n",
       "      <td>7.07</td>\n",
       "      <td>0</td>\n",
       "      <td>0.469</td>\n",
       "      <td>6.421</td>\n",
       "      <td>78.9</td>\n",
       "      <td>4.9671</td>\n",
       "      <td>2</td>\n",
       "      <td>242.0</td>\n",
       "      <td>17.8</td>\n",
       "      <td>396.90</td>\n",
       "      <td>9.14</td>\n",
       "      <td>21.6</td>\n",
       "    </tr>\n",
       "    <tr>\n",
       "      <th>2</th>\n",
       "      <td>0.02729</td>\n",
       "      <td>0.0</td>\n",
       "      <td>7.07</td>\n",
       "      <td>0</td>\n",
       "      <td>0.469</td>\n",
       "      <td>7.185</td>\n",
       "      <td>61.1</td>\n",
       "      <td>4.9671</td>\n",
       "      <td>2</td>\n",
       "      <td>242.0</td>\n",
       "      <td>17.8</td>\n",
       "      <td>392.83</td>\n",
       "      <td>4.03</td>\n",
       "      <td>34.7</td>\n",
       "    </tr>\n",
       "    <tr>\n",
       "      <th>3</th>\n",
       "      <td>0.03237</td>\n",
       "      <td>0.0</td>\n",
       "      <td>2.18</td>\n",
       "      <td>0</td>\n",
       "      <td>0.458</td>\n",
       "      <td>6.998</td>\n",
       "      <td>45.8</td>\n",
       "      <td>6.0622</td>\n",
       "      <td>3</td>\n",
       "      <td>222.0</td>\n",
       "      <td>18.7</td>\n",
       "      <td>394.63</td>\n",
       "      <td>2.94</td>\n",
       "      <td>33.4</td>\n",
       "    </tr>\n",
       "    <tr>\n",
       "      <th>4</th>\n",
       "      <td>0.06905</td>\n",
       "      <td>0.0</td>\n",
       "      <td>2.18</td>\n",
       "      <td>0</td>\n",
       "      <td>0.458</td>\n",
       "      <td>7.147</td>\n",
       "      <td>54.2</td>\n",
       "      <td>6.0622</td>\n",
       "      <td>3</td>\n",
       "      <td>222.0</td>\n",
       "      <td>18.7</td>\n",
       "      <td>396.90</td>\n",
       "      <td>5.33</td>\n",
       "      <td>36.2</td>\n",
       "    </tr>\n",
       "  </tbody>\n",
       "</table>\n",
       "</div>"
      ],
      "text/plain": [
       "        0     1     2   3      4      5     6       7   8      9     10  \\\n",
       "0  0.00632  18.0  2.31   0  0.538  6.575  65.2  4.0900   1  296.0  15.3   \n",
       "1  0.02731   0.0  7.07   0  0.469  6.421  78.9  4.9671   2  242.0  17.8   \n",
       "2  0.02729   0.0  7.07   0  0.469  7.185  61.1  4.9671   2  242.0  17.8   \n",
       "3  0.03237   0.0  2.18   0  0.458  6.998  45.8  6.0622   3  222.0  18.7   \n",
       "4  0.06905   0.0  2.18   0  0.458  7.147  54.2  6.0622   3  222.0  18.7   \n",
       "\n",
       "       11    12    13  \n",
       "0  396.90  4.98  24.0  \n",
       "1  396.90  9.14  21.6  \n",
       "2  392.83  4.03  34.7  \n",
       "3  394.63  2.94  33.4  \n",
       "4  396.90  5.33  36.2  "
      ]
     },
     "execution_count": 12,
     "metadata": {},
     "output_type": "execute_result"
    }
   ],
   "source": [
    "url = 'https://archive.ics.uci.edu/ml/machine-learning-databases/housing/housing.data'\n",
    "df = pd.read_csv(url, delimiter='\\s+', header=None)\n",
    "df.head()"
   ]
  },
  {
   "cell_type": "code",
   "execution_count": 14,
   "metadata": {},
   "outputs": [],
   "source": [
    "X, y = np.array(df.drop(13, axis=1)), np.array(df[13])"
   ]
  },
  {
   "cell_type": "code",
   "execution_count": 16,
   "metadata": {},
   "outputs": [
    {
     "data": {
      "text/plain": [
       "array([6.3200e-03, 0.0000e+00, 4.6000e-01, 0.0000e+00, 3.8500e-01,\n",
       "       3.5610e+00, 2.9000e+00, 1.1296e+00, 1.0000e+00, 1.8700e+02,\n",
       "       1.2600e+01, 3.2000e-01, 1.7300e+00])"
      ]
     },
     "execution_count": 16,
     "metadata": {},
     "output_type": "execute_result"
    }
   ],
   "source": [
    "X.min(axis = 0)"
   ]
  },
  {
   "cell_type": "markdown",
   "metadata": {},
   "source": [
    "Now, let's use the data to fit our model"
   ]
  },
  {
   "cell_type": "code",
   "execution_count": 18,
   "metadata": {
    "scrolled": true
   },
   "outputs": [
    {
     "name": "stdout",
     "output_type": "stream",
     "text": [
      "Start Training\n",
      "-----------------------\n",
      "Iteration: 0\n",
      "Coef: [[-0.24533888]\n",
      " [ 0.54528621]\n",
      " [-0.407758  ]\n",
      " [-0.67987417]\n",
      " [-0.45755183]\n",
      " [ 0.06070718]\n",
      " [ 0.22276622]\n",
      " [-0.78651622]\n",
      " [-0.33411696]\n",
      " [ 0.71394085]\n",
      " [-0.43471473]\n",
      " [ 0.68652701]\n",
      " [ 0.34812431]\n",
      " [-0.08480206]]\n",
      "Loss: 294116.5580479546\n",
      "-----------------------\n",
      "End Training (Early Stopped at iteration 24049)\n",
      "\n",
      "Number of total iterations: 24049 \n",
      "Best Loss: 11078.784577955415\n",
      "CPU times: total: 547 ms\n",
      "Wall time: 620 ms\n"
     ]
    }
   ],
   "source": [
    "%%time\n",
    "reg = Linear_Regression(num_iter=100000, normalize=True)\n",
    "reg.fit(X,y)\n",
    "print(f'\\nNumber of total iterations: {len(reg.loss)} \\nBest Loss: {min(reg.loss)}')"
   ]
  },
  {
   "cell_type": "markdown",
   "metadata": {},
   "source": [
    "Let's visualize the loss curve of our model on this dataset"
   ]
  },
  {
   "cell_type": "code",
   "execution_count": 20,
   "metadata": {},
   "outputs": [
    {
     "data": {
      "image/png": "[encoded data removed]",
      "text/plain": [
       "<Figure size 640x480 with 1 Axes>"
      ]
     },
     "metadata": {},
     "output_type": "display_data"
    }
   ],
   "source": [
    "plt.plot(np.log(reg.loss), label='Linear Regression w/ Normalization')\n",
    "plt.xlabel(\"Number of Iterations\")\n",
    "plt.ylabel(\"Loss (Log Scaled)\")\n",
    "plt.legend()\n",
    "plt.show()"
   ]
  },
  {
   "cell_type": "markdown",
   "metadata": {},
   "source": [
    "To verify our model, we can compare our model's performance with respect to the linear regression model implemented in scikit-learn (a.k.a. `sklearn`). Scikit-learn is a popular machine learning library in python that provides many classical machine learning algorithms for many different tasks (regression, classification, clustering, etc). It also contains utility functions for preprocessing, calculating metrics, etc.\n",
    "\n",
    "If you implemented your model correctly, you should get a very similar output (difference < 1e-3) for RMSE (Root Mean Squared Error) compared to sklearn linear regressor's RMSE."
   ]
  },
  {
   "cell_type": "code",
   "execution_count": 38,
   "metadata": {},
   "outputs": [
    {
     "name": "stdout",
     "output_type": "stream",
     "text": [
      "Our Model's RMSE: 4.679191295697374\n",
      "Sklearn Model's RMSE: 4.679191295697283\n"
     ]
    }
   ],
   "source": [
    "m, n = df.shape\n",
    "X_norm = X.copy()\n",
    "\n",
    "# TODO: normalize X using the procedure in your model implementation\n",
    "myX = X\n",
    "MAX = np.zeros((1, X.shape[1]))\n",
    "MIN = np.zeros((1, X.shape[1]))\n",
    "for i in range(myX.shape[1]):\n",
    "            MAX[:, i] = myX[:, i].max()\n",
    "            MIN[:, i] = myX[:, i].min()\n",
    "X_norm = ((X - MIN) / (MAX - MIN))\n",
    "\n",
    "# Let's build a model with sklearn\n",
    "lr = LinearRegression()\n",
    "lr.fit(X_norm,y)\n",
    "\n",
    "#Compare Root Mean Squared Error.\n",
    "print(f\"Our Model's RMSE: {(sum((reg.predict(X).flatten() - y)**2)/m)**0.5}\\\n",
    "\\nSklearn Model's RMSE: {(sum((lr.predict(X_norm) - y)**2)/m)**0.5}\")"
   ]
  },
  {
   "cell_type": "markdown",
   "metadata": {},
   "source": [
    "Now, let's have some tweaks with our custom model. First, let's see if an interception (i.e. bias) really helps with our model's performance on the real-world data."
   ]
  },
  {
   "cell_type": "code",
   "execution_count": 40,
   "metadata": {},
   "outputs": [
    {
     "name": "stdout",
     "output_type": "stream",
     "text": [
      "CPU times: total: 859 ms\n",
      "Wall time: 920 ms\n"
     ]
    }
   ],
   "source": [
    "%%time\n",
    "%%capture\n",
    "reg_bias = Linear_Regression(num_iter=100000, normalize=True, intercept=True)\n",
    "reg_no_bias = Linear_Regression(num_iter=100000, normalize=True, intercept=False)\n",
    "reg_bias.fit(X,y)\n",
    "reg_no_bias.fit(X,y)"
   ]
  },
  {
   "cell_type": "code",
   "execution_count": 42,
   "metadata": {},
   "outputs": [
    {
     "name": "stdout",
     "output_type": "stream",
     "text": [
      "Our Model's RMSE with Interception: 4.6791912956973905\n",
      "Our Model's RMSE without Interception: 5.2413542310052605\n"
     ]
    }
   ],
   "source": [
    "print(f\"Our Model's RMSE with Interception: {(sum((reg_bias.predict(X).flatten() - y)**2)/m)**0.5}\\\n",
    "\\nOur Model's RMSE without Interception: {(sum((reg_no_bias.predict(X).flatten() - y)**2)/m)**0.5}\")"
   ]
  },
  {
   "cell_type": "markdown",
   "metadata": {},
   "source": [
    "<font color='red'>**Question 2: What conclusions can you make here? Does the addition of an intercept make our model perform better?**</font>"
   ]
  },
  {
   "cell_type": "markdown",
   "metadata": {},
   "source": [
    "* **Answer:** From the data, it looks like the addition of an intercept makes our model perform better. I think that the addition of the intercept must be making the regression line fit the data better if the error decreases with it."
   ]
  },
  {
   "cell_type": "markdown",
   "metadata": {},
   "source": [
    "Second, let's see if regularization can further help with decreasing our model's loss. Since regularization deals with the problem of overfitting, we need to check our model's performance on the \"unseen\" data. Here, we will split our data into two parts: `training set` and `test set`, where our model will be fit with the training set, and the performance will be evaluated based on the test set."
   ]
  },
  {
   "cell_type": "code",
   "execution_count": 44,
   "metadata": {},
   "outputs": [],
   "source": [
    "X_train, X_test, y_train, y_test = train_test_split(X_norm, y, test_size=0.33, random_state=42)\n",
    "m, n = X_test.shape"
   ]
  },
  {
   "cell_type": "code",
   "execution_count": 80,
   "metadata": {},
   "outputs": [
    {
     "name": "stdout",
     "output_type": "stream",
     "text": [
      "CPU times: total: 1.17 s\n",
      "Wall time: 1.19 s\n"
     ]
    }
   ],
   "source": [
    "%%time\n",
    "%%capture\n",
    "reg = Linear_Regression(num_iter=100000, normalize=True)\n",
    "reg.fit(X_train, y_train)\n",
    "# Feel free to tune the lambda hyperparameter for better performance when penalty (regularization) is applied\n",
    "reg_l1 = Linear_Regression(num_iter=100000, normalize=True, penalty='l1')\n",
    "reg_l1.fit(X_train, y_train)\n",
    "reg_l2 = Linear_Regression(num_iter=100000, normalize=True, penalty='l2')\n",
    "reg_l2.fit(X_train, y_train)"
   ]
  },
  {
   "cell_type": "code",
   "execution_count": 82,
   "metadata": {},
   "outputs": [
    {
     "name": "stdout",
     "output_type": "stream",
     "text": [
      "Our Model's RMSE: 2.61529094214875\n",
      "Our L1 Regularized Model's RMSE: 2.624903843214967\n",
      "Our L2 Regularized Model's RMSE: 2.6946924470901443\n"
     ]
    }
   ],
   "source": [
    "print(f\"Our Model's RMSE: {(sum((reg.predict(X_test).flatten() - y_test)**2)/m)**0.5}\")\n",
    "print(f\"Our L1 Regularized Model's RMSE: {(sum((reg_l1.predict(X_test).flatten() - y_test)**2)/m)**0.5}\")\n",
    "print(f\"Our L2 Regularized Model's RMSE: {(sum((reg_l2.predict(X_test).flatten() - y_test)**2)/m)**0.5}\")"
   ]
  },
  {
   "cell_type": "markdown",
   "metadata": {},
   "source": [
    "<font color='red'> **Question 3: What conclusions can you make here? Does the addition of a regularization make our model perform better on the test set? Why does the addition of it make our model perform better/worse?** </font>"
   ]
  },
  {
   "cell_type": "markdown",
   "metadata": {},
   "source": [
    "* **Answer:** It looks like our model's RMSE is better than the L1 and L2 regularized model's RMSEs. The addition of regularization worsens our model's performance. Since the RMSE becomes greater/worsens with the addition of regularization, I think that means our model is not overfitted and is already fitted well. The regularization must be causing worse generalization / lean toward underfitting since the values are slightly worse."
   ]
  },
  {
   "cell_type": "markdown",
   "metadata": {},
   "source": [
    "Finally, let's see the role of an adaptive learning rate. Let's see our model's performance when adaptive learning rate is disabled."
   ]
  },
  {
   "cell_type": "code",
   "execution_count": 84,
   "metadata": {},
   "outputs": [],
   "source": [
    "m, n = X.shape"
   ]
  },
  {
   "cell_type": "code",
   "execution_count": 86,
   "metadata": {},
   "outputs": [
    {
     "name": "stdout",
     "output_type": "stream",
     "text": [
      "CPU times: total: 4.59 s\n",
      "Wall time: 5 s\n"
     ]
    }
   ],
   "source": [
    "%%time\n",
    "%%capture\n",
    "reg = Linear_Regression(num_iter=100000, normalize=True)\n",
    "reg.fit(X, y)\n",
    "reg_alt = Linear_Regression(num_iter=100000, normalize=True, adaptive=False)\n",
    "reg_alt.fit(X, y)"
   ]
  },
  {
   "cell_type": "code",
   "execution_count": 88,
   "metadata": {},
   "outputs": [
    {
     "name": "stdout",
     "output_type": "stream",
     "text": [
      "Our Model's RMSE with Adaptive LR: 4.679191295697371\n",
      "Our Model's RMSE without Adaptive LR: 4.734862154313602\n"
     ]
    }
   ],
   "source": [
    "print(f\"Our Model's RMSE with Adaptive LR: {(sum((reg.predict(X).flatten() - y)**2)/m)**0.5}\\\n",
    "\\nOur Model's RMSE without Adaptive LR: {(sum((reg_alt.predict(X).flatten() - y)**2)/m)**0.5}\")"
   ]
  },
  {
   "cell_type": "markdown",
   "metadata": {},
   "source": [
    "<font color='red'> **Question 4: What conclusions can you make here? Does the addition of an adaptive learning rate make our model perform better? What are your reasonings here?**</font>"
   ]
  },
  {
   "cell_type": "markdown",
   "metadata": {},
   "source": [
    "* **Answer:** It looks like the model performs better with the adaptive learning rate. Since the adaptive learning rate changes based on the loss fucntion/validation performance to choose a better learning rate, which in our case is to increase it by 30% if current error is smaller than previous error, it makes sense that it's RMSE would decrease/be better."
   ]
  }
 ],
 "metadata": {
  "kernelspec": {
   "display_name": "Python [conda env:base] *",
   "language": "python",
   "name": "conda-base-py"
  },
  "language_info": {
   "codemirror_mode": {
    "name": "ipython",
    "version": 3
   },
   "file_extension": ".py",
   "mimetype": "text/x-python",
   "name": "python",
   "nbconvert_exporter": "python",
   "pygments_lexer": "ipython3",
   "version": "3.12.7"
  }
 },
 "nbformat": 4,
 "nbformat_minor": 4
}
